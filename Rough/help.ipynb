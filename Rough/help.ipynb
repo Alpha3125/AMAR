{
 "cells": [
  {
   "cell_type": "markdown",
   "metadata": {},
   "source": [
    "# How to write Docstrings"
   ]
  },
  {
   "cell_type": "code",
   "execution_count": 1,
   "metadata": {},
   "outputs": [],
   "source": [
    "class Person:\n",
    "    \"\"\"\n",
    "    A class to represent a person.\n",
    "\n",
    "    ...\n",
    "\n",
    "    Attributes\n",
    "    ----------\n",
    "    name : str\n",
    "        first name of the person\n",
    "    surname : str\n",
    "        family name of the person\n",
    "    age : int\n",
    "        age of the person\n",
    "\n",
    "    Methods\n",
    "    -------\n",
    "    info(additional=\"\"):\n",
    "        Prints the person's name and age.\n",
    "    \"\"\"\n",
    "\n",
    "    def __init__(self, name, surname, age):\n",
    "        \"\"\"\n",
    "        Constructs all the necessary attributes for the person object.\n",
    "\n",
    "        Parameters\n",
    "        ----------\n",
    "            name : str\n",
    "                first name of the person\n",
    "            surname : str\n",
    "                family name of the person\n",
    "            age : int\n",
    "                age of the person\n",
    "        \"\"\"\n",
    "\n",
    "        self.name = name\n",
    "        self.surname = surname\n",
    "        self.age = age\n",
    "\n",
    "    def info(self, additional=\"\"):\n",
    "        \"\"\"\n",
    "        Prints the person's name and age.\n",
    "\n",
    "        If the argument 'additional' is passed, then it is appended after the main info.\n",
    "\n",
    "        Parameters\n",
    "        ----------\n",
    "        additional : str, optional\n",
    "            More info to be displayed (default is None)\n",
    "\n",
    "        Returns\n",
    "        -------\n",
    "        None\n",
    "        \"\"\"\n",
    "\n",
    "        print(f'My name is {self.name} {self.surname}. I am {self.age} years old.' + additional)"
   ]
  },
  {
   "cell_type": "code",
   "execution_count": 3,
   "metadata": {},
   "outputs": [
    {
     "name": "stdout",
     "output_type": "stream",
     "text": [
      "\n",
      "    A class to represent a person.\n",
      "\n",
      "    ...\n",
      "\n",
      "    Attributes\n",
      "    ----------\n",
      "    name : str\n",
      "        first name of the person\n",
      "    surname : str\n",
      "        family name of the person\n",
      "    age : int\n",
      "        age of the person\n",
      "\n",
      "    Methods\n",
      "    -------\n",
      "    info(additional=\"\"):\n",
      "        Prints the person's name and age.\n",
      "     \n",
      "\n",
      "\n",
      "        Prints the person's name and age.\n",
      "\n",
      "        If the argument 'additional' is passed, then it is appended after the main info.\n",
      "\n",
      "        Parameters\n",
      "        ----------\n",
      "        additional : str, optional\n",
      "            More info to be displayed (default is None)\n",
      "\n",
      "        Returns\n",
      "        -------\n",
      "        None\n",
      "         \n",
      "\n",
      "\n",
      "        Constructs all the necessary attributes for the person object.\n",
      "\n",
      "        Parameters\n",
      "        ----------\n",
      "            name : str\n",
      "                first name of the person\n",
      "            surname : str\n",
      "                family name of the person\n",
      "            age : int\n",
      "                age of the person\n",
      "         \n",
      "\n"
     ]
    }
   ],
   "source": [
    "# accessing/printing the docstrings\n",
    "print(Person.__doc__, \"\\n\")\n",
    "print(Person.info.__doc__, \"\\n\")\n",
    "print(Person.__init__.__doc__, \"\\n\")"
   ]
  },
  {
   "cell_type": "markdown",
   "metadata": {},
   "source": [
    "# Pyfirmata working functions"
   ]
  },
  {
   "cell_type": "markdown",
   "metadata": {},
   "source": [
    "## Imports and initialization"
   ]
  },
  {
   "cell_type": "code",
   "execution_count": 1,
   "metadata": {},
   "outputs": [],
   "source": [
    "from pyfirmata import Arduino, util"
   ]
  },
  {
   "cell_type": "code",
   "execution_count": 2,
   "metadata": {},
   "outputs": [],
   "source": [
    "board = Arduino('COM7')\n",
    "\n",
    "# next 2 lines needed for taking inputs\n",
    "it = util.Iterator(board)\n",
    "it.start()"
   ]
  },
  {
   "cell_type": "markdown",
   "metadata": {},
   "source": [
    "## Analog Read pin (here worked with pin A0)"
   ]
  },
  {
   "cell_type": "code",
   "execution_count": 11,
   "metadata": {},
   "outputs": [],
   "source": [
    "analog_0 = board.get_pin('a:0:i')"
   ]
  },
  {
   "cell_type": "code",
   "execution_count": 12,
   "metadata": {},
   "outputs": [
    {
     "data": {
      "text/plain": [
       "pyfirmata.pyfirmata.Pin"
      ]
     },
     "execution_count": 12,
     "metadata": {},
     "output_type": "execute_result"
    }
   ],
   "source": [
    "type(analog_0)"
   ]
  },
  {
   "cell_type": "code",
   "execution_count": 15,
   "metadata": {},
   "outputs": [
    {
     "data": {
      "text/plain": [
       "0.6686"
      ]
     },
     "execution_count": 15,
     "metadata": {},
     "output_type": "execute_result"
    }
   ],
   "source": [
    "analog_0.read()"
   ]
  },
  {
   "cell_type": "markdown",
   "metadata": {},
   "source": [
    "## PWM digital Output pin (here worked with pin 11)"
   ]
  },
  {
   "cell_type": "code",
   "execution_count": 6,
   "metadata": {},
   "outputs": [],
   "source": [
    "pin11 = board.get_pin('d:11:p')"
   ]
  },
  {
   "cell_type": "code",
   "execution_count": 7,
   "metadata": {},
   "outputs": [
    {
     "name": "stdout",
     "output_type": "stream",
     "text": [
      "Digital pin 11\n"
     ]
    }
   ],
   "source": [
    "print(pin11)"
   ]
  },
  {
   "cell_type": "code",
   "execution_count": 10,
   "metadata": {},
   "outputs": [],
   "source": [
    "pin11.write(0.8)"
   ]
  },
  {
   "cell_type": "markdown",
   "metadata": {},
   "source": [
    "## non-PWM digital Output pin (here worked with pin 13)"
   ]
  },
  {
   "cell_type": "code",
   "execution_count": 3,
   "metadata": {},
   "outputs": [],
   "source": [
    "pin13 = board.get_pin('d:13:o')"
   ]
  },
  {
   "cell_type": "code",
   "execution_count": 4,
   "metadata": {},
   "outputs": [
    {
     "name": "stdout",
     "output_type": "stream",
     "text": [
      "Digital pin 13\n"
     ]
    }
   ],
   "source": [
    "print(pin13)"
   ]
  },
  {
   "cell_type": "code",
   "execution_count": 5,
   "metadata": {},
   "outputs": [],
   "source": [
    "pin13.write(1)"
   ]
  }
 ],
 "metadata": {
  "interpreter": {
   "hash": "be9cdc504d98ab96ad8866acde1c88b8018494c09f03a4368ac294b997c715e8"
  },
  "kernelspec": {
   "display_name": "Python 3.9.11 64-bit (windows store)",
   "language": "python",
   "name": "python3"
  },
  "language_info": {
   "codemirror_mode": {
    "name": "ipython",
    "version": 3
   },
   "file_extension": ".py",
   "mimetype": "text/x-python",
   "name": "python",
   "nbconvert_exporter": "python",
   "pygments_lexer": "ipython3",
   "version": "3.9.11"
  },
  "orig_nbformat": 4
 },
 "nbformat": 4,
 "nbformat_minor": 2
}

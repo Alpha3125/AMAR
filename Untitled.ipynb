{
 "cells": [
  {
   "cell_type": "code",
   "execution_count": 1,
   "id": "b065c08f",
   "metadata": {},
   "outputs": [],
   "source": [
    "from time import sleep, time\n",
    "from pyfirmata import ArduinoMega, util\n",
    "from matplotlib import pyplot as plt"
   ]
  },
  {
   "cell_type": "code",
   "execution_count": 2,
   "id": "37da1821",
   "metadata": {},
   "outputs": [],
   "source": [
    "board = ArduinoMega('COM9')"
   ]
  },
  {
   "cell_type": "code",
   "execution_count": 3,
   "id": "185916db",
   "metadata": {},
   "outputs": [],
   "source": [
    "it = util.Iterator(board)\n",
    "it.start()\n",
    "for i in range(16): board.analog[i].enable_reporting()"
   ]
  },
  {
   "cell_type": "code",
   "execution_count": 4,
   "id": "5d7f53f0",
   "metadata": {},
   "outputs": [],
   "source": [
    "pin = board.get_pin(\"d:11:p\")"
   ]
  },
  {
   "cell_type": "code",
   "execution_count": 5,
   "id": "2b737342",
   "metadata": {},
   "outputs": [],
   "source": [
    "pin.write(0.6)"
   ]
  },
  {
   "cell_type": "code",
   "execution_count": 24,
   "id": "58e455b6",
   "metadata": {},
   "outputs": [
    {
     "name": "stdout",
     "output_type": "stream",
     "text": [
      "0.6817694311900047\n",
      "18394674\n"
     ]
    }
   ],
   "source": [
    "t = time()\n",
    "add = []\n",
    "while time()-t<10:\n",
    "    add.append(board.analog[0].read())\n",
    "print(sum(add)/len(add))\n",
    "print(len(add))"
   ]
  },
  {
   "cell_type": "code",
   "execution_count": 25,
   "id": "e510e27b",
   "metadata": {},
   "outputs": [
    {
     "data": {
      "text/plain": [
       "{0.6725, 0.6735, 0.6774, 0.6784, 0.6804, 0.6823, 0.6833}"
      ]
     },
     "execution_count": 25,
     "metadata": {},
     "output_type": "execute_result"
    }
   ],
   "source": [
    "set(add)"
   ]
  },
  {
   "cell_type": "code",
   "execution_count": 26,
   "id": "9558b192",
   "metadata": {},
   "outputs": [],
   "source": [
    "n = 0\n",
    "log = []\n",
    "for i in range(len(add)-1):\n",
    "    if abs(add[i]-add[i+1]) > 0.5:\n",
    "        n+=0.5\n",
    "        log.append(i)"
   ]
  },
  {
   "cell_type": "code",
   "execution_count": 27,
   "id": "706789bf",
   "metadata": {},
   "outputs": [
    {
     "data": {
      "text/plain": [
       "0"
      ]
     },
     "execution_count": 27,
     "metadata": {},
     "output_type": "execute_result"
    }
   ],
   "source": [
    "n"
   ]
  },
  {
   "cell_type": "raw",
   "id": "60e805a0",
   "metadata": {},
   "source": [
    "log"
   ]
  },
  {
   "cell_type": "raw",
   "id": "b5fd9aa1",
   "metadata": {},
   "source": [
    "loga = [log[i+1]-log[i] for i in range(len(log)-1)]"
   ]
  },
  {
   "cell_type": "raw",
   "id": "5c843776",
   "metadata": {},
   "source": [
    "loga"
   ]
  },
  {
   "cell_type": "raw",
   "id": "da7effa6",
   "metadata": {},
   "source": [
    "sum(loga)/len(loga)"
   ]
  },
  {
   "cell_type": "code",
   "execution_count": 28,
   "id": "64302dc4",
   "metadata": {},
   "outputs": [
    {
     "data": {
      "text/plain": [
       "[<matplotlib.lines.Line2D at 0x1ec0e1fd4c8>]"
      ]
     },
     "execution_count": 28,
     "metadata": {},
     "output_type": "execute_result"
    },
    {
     "data": {
      "image/png": "[encoded data removed]",
      "text/plain": [
       "<Figure size 432x288 with 1 Axes>"
      ]
     },
     "metadata": {
      "needs_background": "light"
     },
     "output_type": "display_data"
    }
   ],
   "source": [
    "plt.plot(add)"
   ]
  },
  {
   "cell_type": "raw",
   "id": "ea36a5bf",
   "metadata": {},
   "source": [
    "while True:\n",
    "    print(board.analog[0].read())"
   ]
  },
  {
   "cell_type": "code",
   "execution_count": 30,
   "id": "9233c570",
   "metadata": {},
   "outputs": [
    {
     "name": "stdout",
     "output_type": "stream",
     "text": [
      "997\n",
      "154\n",
      "0\n",
      "0\n",
      "0\n",
      "0\n",
      "0\n",
      "0\n",
      "0\n",
      "22\n",
      "9\n",
      "2\n",
      "7\n",
      "5\n",
      "6\n",
      "10\n"
     ]
    }
   ],
   "source": [
    "for i in range(16): print(int(board.analog[i].read()*1024))"
   ]
  }
 ],
 "metadata": {
  "kernelspec": {
   "display_name": "Python 3 (ipykernel)",
   "language": "python",
   "name": "python3"
  },
  "language_info": {
   "codemirror_mode": {
    "name": "ipython",
    "version": 3
   },
   "file_extension": ".py",
   "mimetype": "text/x-python",
   "name": "python",
   "nbconvert_exporter": "python",
   "pygments_lexer": "ipython3",
   "version": "3.9.10"
  }
 },
 "nbformat": 4,
 "nbformat_minor": 5
}

{
 "cells": [
  {
   "cell_type": "code",
   "execution_count": 1,
   "id": "072a9a55",
   "metadata": {},
   "outputs": [],
   "source": [
    "from pyfirmata import Arduino, util\n",
    "board = Arduino(\"com7\")"
   ]
  },
  {
   "cell_type": "code",
   "execution_count": 16,
   "id": "e9ada06a",
   "metadata": {},
   "outputs": [],
   "source": [
    "board.digital[8].write(0)\n",
    "board.digital[9].write(1)\n",
    "board.digital[10].write(1)\n",
    "board.digital[11].write(0)"
   ]
  }
 ],
 "metadata": {
  "kernelspec": {
   "display_name": "Python 3 (ipykernel)",
   "language": "python",
   "name": "python3"
  },
  "language_info": {
   "codemirror_mode": {
    "name": "ipython",
    "version": 3
   },
   "file_extension": ".py",
   "mimetype": "text/x-python",
   "name": "python",
   "nbconvert_exporter": "python",
   "pygments_lexer": "ipython3",
   "version": "3.7.9"
  }
 },
 "nbformat": 4,
 "nbformat_minor": 5
}
